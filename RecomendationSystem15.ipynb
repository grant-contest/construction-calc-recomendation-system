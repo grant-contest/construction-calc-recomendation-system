{
  "nbformat": 4,
  "nbformat_minor": 0,
  "metadata": {
    "colab": {
      "provenance": []
    },
    "kernelspec": {
      "name": "python3",
      "display_name": "Python 3"
    },
    "language_info": {
      "name": "python"
    },
    "accelerator": "GPU",
    "gpuClass": "standard"
  },
  "cells": [
    {
      "cell_type": "markdown",
      "source": [
        "# 1. Setup"
      ],
      "metadata": {
        "id": "eN8rAiuIl0bJ"
      }
    },
    {
      "cell_type": "markdown",
      "source": [
        "## 1.1 Import libraries"
      ],
      "metadata": {
        "id": "Mdk4wi5pl4zE"
      }
    },
    {
      "cell_type": "code",
      "source": [
        "from IPython.display import clear_output"
      ],
      "metadata": {
        "id": "jldXeANXzPFW"
      },
      "execution_count": 1,
      "outputs": []
    },
    {
      "cell_type": "code",
      "source": [
        "!pip install fbgemm-gpu\n",
        "#!pip install fbgemm-gpu-cpu\n",
        "\n",
        "!pip install torch\n",
        "!pip install torchrec\n",
        "#!pip install torchrec-cpu\n",
        "!pip install pyre_extensions\n",
        "\n",
        "#clear_output()"
      ],
      "metadata": {
        "colab": {
          "base_uri": "https://localhost:8080/"
        },
        "id": "Bl4AHouXz8lO",
        "outputId": "e2f5ba0e-734c-4057-ff7f-3cc1e954986b"
      },
      "execution_count": 2,
      "outputs": [
        {
          "output_type": "stream",
          "name": "stdout",
          "text": [
            "Collecting fbgemm-gpu\n",
            "  Downloading fbgemm_gpu-0.4.1-cp310-cp310-manylinux1_x86_64.whl (225.8 MB)\n",
            "\u001b[2K     \u001b[90m━━━━━━━━━━━━━━━━━━━━━━━━━━━━━━━━━━━━━━━\u001b[0m \u001b[32m225.8/225.8 MB\u001b[0m \u001b[31m3.0 MB/s\u001b[0m eta \u001b[36m0:00:00\u001b[0m\n",
            "\u001b[?25hInstalling collected packages: fbgemm-gpu\n",
            "Successfully installed fbgemm-gpu-0.4.1\n",
            "Requirement already satisfied: torch in /usr/local/lib/python3.10/dist-packages (2.0.1+cu118)\n",
            "Requirement already satisfied: filelock in /usr/local/lib/python3.10/dist-packages (from torch) (3.12.2)\n",
            "Requirement already satisfied: typing-extensions in /usr/local/lib/python3.10/dist-packages (from torch) (4.7.1)\n",
            "Requirement already satisfied: sympy in /usr/local/lib/python3.10/dist-packages (from torch) (1.12)\n",
            "Requirement already satisfied: networkx in /usr/local/lib/python3.10/dist-packages (from torch) (3.1)\n",
            "Requirement already satisfied: jinja2 in /usr/local/lib/python3.10/dist-packages (from torch) (3.1.2)\n",
            "Requirement already satisfied: triton==2.0.0 in /usr/local/lib/python3.10/dist-packages (from torch) (2.0.0)\n",
            "Requirement already satisfied: cmake in /usr/local/lib/python3.10/dist-packages (from triton==2.0.0->torch) (3.27.2)\n",
            "Requirement already satisfied: lit in /usr/local/lib/python3.10/dist-packages (from triton==2.0.0->torch) (16.0.6)\n",
            "Requirement already satisfied: MarkupSafe>=2.0 in /usr/local/lib/python3.10/dist-packages (from jinja2->torch) (2.1.3)\n",
            "Requirement already satisfied: mpmath>=0.19 in /usr/local/lib/python3.10/dist-packages (from sympy->torch) (1.3.0)\n",
            "Collecting torchrec\n",
            "  Downloading torchrec-0.4.0-py310-none-any.whl (325 kB)\n",
            "\u001b[2K     \u001b[90m━━━━━━━━━━━━━━━━━━━━━━━━━━━━━━━━━━━━━━━\u001b[0m \u001b[32m325.7/325.7 kB\u001b[0m \u001b[31m5.6 MB/s\u001b[0m eta \u001b[36m0:00:00\u001b[0m\n",
            "\u001b[?25hCollecting iopath (from torchrec)\n",
            "  Downloading iopath-0.1.10.tar.gz (42 kB)\n",
            "\u001b[2K     \u001b[90m━━━━━━━━━━━━━━━━━━━━━━━━━━━━━━━━━━━━━━━━\u001b[0m \u001b[32m42.2/42.2 kB\u001b[0m \u001b[31m5.1 MB/s\u001b[0m eta \u001b[36m0:00:00\u001b[0m\n",
            "\u001b[?25h  Preparing metadata (setup.py) ... \u001b[?25l\u001b[?25hdone\n",
            "Requirement already satisfied: pandas in /usr/local/lib/python3.10/dist-packages (from torchrec) (1.5.3)\n",
            "Requirement already satisfied: tabulate in /usr/local/lib/python3.10/dist-packages (from torchrec) (0.9.0)\n",
            "Collecting torchmetrics (from torchrec)\n",
            "  Downloading torchmetrics-1.0.3-py3-none-any.whl (731 kB)\n",
            "\u001b[2K     \u001b[90m━━━━━━━━━━━━━━━━━━━━━━━━━━━━━━━━━━━━━━\u001b[0m \u001b[32m731.6/731.6 kB\u001b[0m \u001b[31m11.6 MB/s\u001b[0m eta \u001b[36m0:00:00\u001b[0m\n",
            "\u001b[?25hRequirement already satisfied: tqdm in /usr/local/lib/python3.10/dist-packages (from torchrec) (4.66.1)\n",
            "Requirement already satisfied: fbgemm-gpu in /usr/local/lib/python3.10/dist-packages (from torchrec) (0.4.1)\n",
            "Requirement already satisfied: typing_extensions in /usr/local/lib/python3.10/dist-packages (from iopath->torchrec) (4.7.1)\n",
            "Collecting portalocker (from iopath->torchrec)\n",
            "  Downloading portalocker-2.7.0-py2.py3-none-any.whl (15 kB)\n",
            "Requirement already satisfied: python-dateutil>=2.8.1 in /usr/local/lib/python3.10/dist-packages (from pandas->torchrec) (2.8.2)\n",
            "Requirement already satisfied: pytz>=2020.1 in /usr/local/lib/python3.10/dist-packages (from pandas->torchrec) (2023.3)\n",
            "Requirement already satisfied: numpy>=1.21.0 in /usr/local/lib/python3.10/dist-packages (from pandas->torchrec) (1.23.5)\n",
            "Requirement already satisfied: torch>=1.8.1 in /usr/local/lib/python3.10/dist-packages (from torchmetrics->torchrec) (2.0.1+cu118)\n",
            "Requirement already satisfied: packaging in /usr/local/lib/python3.10/dist-packages (from torchmetrics->torchrec) (23.1)\n",
            "Collecting lightning-utilities>=0.7.0 (from torchmetrics->torchrec)\n",
            "  Downloading lightning_utilities-0.9.0-py3-none-any.whl (23 kB)\n",
            "Requirement already satisfied: six>=1.5 in /usr/local/lib/python3.10/dist-packages (from python-dateutil>=2.8.1->pandas->torchrec) (1.16.0)\n",
            "Requirement already satisfied: filelock in /usr/local/lib/python3.10/dist-packages (from torch>=1.8.1->torchmetrics->torchrec) (3.12.2)\n",
            "Requirement already satisfied: sympy in /usr/local/lib/python3.10/dist-packages (from torch>=1.8.1->torchmetrics->torchrec) (1.12)\n",
            "Requirement already satisfied: networkx in /usr/local/lib/python3.10/dist-packages (from torch>=1.8.1->torchmetrics->torchrec) (3.1)\n",
            "Requirement already satisfied: jinja2 in /usr/local/lib/python3.10/dist-packages (from torch>=1.8.1->torchmetrics->torchrec) (3.1.2)\n",
            "Requirement already satisfied: triton==2.0.0 in /usr/local/lib/python3.10/dist-packages (from torch>=1.8.1->torchmetrics->torchrec) (2.0.0)\n",
            "Requirement already satisfied: cmake in /usr/local/lib/python3.10/dist-packages (from triton==2.0.0->torch>=1.8.1->torchmetrics->torchrec) (3.27.2)\n",
            "Requirement already satisfied: lit in /usr/local/lib/python3.10/dist-packages (from triton==2.0.0->torch>=1.8.1->torchmetrics->torchrec) (16.0.6)\n",
            "Requirement already satisfied: MarkupSafe>=2.0 in /usr/local/lib/python3.10/dist-packages (from jinja2->torch>=1.8.1->torchmetrics->torchrec) (2.1.3)\n",
            "Requirement already satisfied: mpmath>=0.19 in /usr/local/lib/python3.10/dist-packages (from sympy->torch>=1.8.1->torchmetrics->torchrec) (1.3.0)\n",
            "Building wheels for collected packages: iopath\n",
            "  Building wheel for iopath (setup.py) ... \u001b[?25l\u001b[?25hdone\n",
            "  Created wheel for iopath: filename=iopath-0.1.10-py3-none-any.whl size=31530 sha256=f58d88d1f3ab56e5b436f49744fe3130d1bcb593a745ec1d3afe9b7b0aca80b4\n",
            "  Stored in directory: /root/.cache/pip/wheels/9a/a3/b6/ac0fcd1b4ed5cfeb3db92e6a0e476cfd48ed0df92b91080c1d\n",
            "Successfully built iopath\n",
            "Installing collected packages: portalocker, lightning-utilities, iopath, torchmetrics, torchrec\n",
            "Successfully installed iopath-0.1.10 lightning-utilities-0.9.0 portalocker-2.7.0 torchmetrics-1.0.3 torchrec-0.4.0\n",
            "Collecting pyre_extensions\n",
            "  Downloading pyre_extensions-0.0.30-py3-none-any.whl (12 kB)\n",
            "Collecting typing-inspect (from pyre_extensions)\n",
            "  Downloading typing_inspect-0.9.0-py3-none-any.whl (8.8 kB)\n",
            "Requirement already satisfied: typing-extensions in /usr/local/lib/python3.10/dist-packages (from pyre_extensions) (4.7.1)\n",
            "Collecting mypy-extensions>=0.3.0 (from typing-inspect->pyre_extensions)\n",
            "  Downloading mypy_extensions-1.0.0-py3-none-any.whl (4.7 kB)\n",
            "Installing collected packages: mypy-extensions, typing-inspect, pyre_extensions\n",
            "Successfully installed mypy-extensions-1.0.0 pyre_extensions-0.0.30 typing-inspect-0.9.0\n"
          ]
        }
      ]
    },
    {
      "cell_type": "code",
      "source": [
        "import pandas as pd\n",
        "import numpy as np\n",
        "import random\n",
        "\n",
        "import torch\n",
        "from torch.utils.data.dataset import IterableDataset\n",
        "from torchrec.datasets.utils import Batch\n",
        "from torchrec.sparse.jagged_tensor import KeyedJaggedTensor"
      ],
      "metadata": {
        "id": "BIJsphyZc9jN"
      },
      "execution_count": 3,
      "outputs": []
    },
    {
      "cell_type": "code",
      "source": [
        "device = torch.device('cuda' if torch.cuda.is_available() else 'cpu')\n",
        "print(f\"Device: '{device}'\")"
      ],
      "metadata": {
        "id": "JlJfk-Ld-huX",
        "colab": {
          "base_uri": "https://localhost:8080/"
        },
        "outputId": "a308975c-9d02-47f8-e92e-cf38b3d0d68a"
      },
      "execution_count": 4,
      "outputs": [
        {
          "output_type": "stream",
          "name": "stdout",
          "text": [
            "Device: 'cuda'\n"
          ]
        }
      ]
    },
    {
      "cell_type": "code",
      "source": [
        "!git clone https://github.com/linafaik08/recommender_systems_dlrm.git"
      ],
      "metadata": {
        "colab": {
          "base_uri": "https://localhost:8080/"
        },
        "id": "xutEyx-wWnlc",
        "outputId": "8d8cd535-1bd7-412a-b015-88ca29ba4944"
      },
      "execution_count": 5,
      "outputs": [
        {
          "output_type": "stream",
          "name": "stdout",
          "text": [
            "Cloning into 'recommender_systems_dlrm'...\n",
            "remote: Enumerating objects: 59, done.\u001b[K\n",
            "remote: Counting objects: 100% (59/59), done.\u001b[K\n",
            "remote: Compressing objects: 100% (47/47), done.\u001b[K\n",
            "remote: Total 59 (delta 13), reused 53 (delta 10), pack-reused 0\u001b[K\n",
            "Receiving objects: 100% (59/59), 31.77 KiB | 10.59 MiB/s, done.\n",
            "Resolving deltas: 100% (13/13), done.\n"
          ]
        }
      ]
    },
    {
      "cell_type": "code",
      "source": [
        "cd recommender_systems_dlrm/src"
      ],
      "metadata": {
        "colab": {
          "base_uri": "https://localhost:8080/"
        },
        "id": "W04Rd2wUn75Z",
        "outputId": "8c281f12-61ea-4cf3-de35-ccdae692c012"
      },
      "execution_count": 6,
      "outputs": [
        {
          "output_type": "stream",
          "name": "stdout",
          "text": [
            "/content/recommender_systems_dlrm/src\n"
          ]
        }
      ]
    },
    {
      "cell_type": "code",
      "source": [
        "from batch import *\n",
        "from model import *"
      ],
      "metadata": {
        "id": "i3dB9Qznn9Pa"
      },
      "execution_count": 7,
      "outputs": []
    },
    {
      "cell_type": "markdown",
      "source": [
        "## 1.2. Generate data"
      ],
      "metadata": {
        "id": "pK4TklR5bd-U"
      }
    },
    {
      "cell_type": "code",
      "execution_count": 8,
      "metadata": {
        "id": "VuIFsXhrbX-I"
      },
      "outputs": [],
      "source": [
        "n_rows = 10000\n",
        "\n",
        "train_df = pd.DataFrame({\n",
        "    \"feat1\": np.random.rand(n_rows),\n",
        "    \"feat2\": np.random.rand(n_rows),\n",
        "    \"cat1\": np.random.choice([\"A\",\"B\",\"C\"], n_rows),\n",
        "    \"cat2\": [random.choice([[\"A\",\"B\",\"C\"], [\"A\",\"B\"],  [\"A\",\"C\"], [\"B\",\"C\"], [\"B\"], []]) for i in range(n_rows)],\n",
        "    \"label\": np.random.choice([0,1], n_rows)\n",
        "})\n",
        "\n",
        "n_rows = int(n_rows*0.2)\n",
        "\n",
        "test_df = pd.DataFrame({\n",
        "    \"feat1\": np.random.rand(n_rows),\n",
        "    \"feat2\": np.random.rand(n_rows),\n",
        "    \"cat1\": np.random.choice([\"A\",\"B\",\"C\"], n_rows),\n",
        "    \"cat2\": [random.choice([[\"A\",\"B\",\"C\"], [\"A\",\"B\"],  [\"A\",\"C\"], [\"B\",\"C\"], [\"B\"], []]) for i in range(n_rows)],\n",
        "    \"label\": np.random.choice([0,1], n_rows)\n",
        "})\n",
        "\n",
        "n_rows = int(n_rows*0.2)\n",
        "\n",
        "val_df = pd.DataFrame({\n",
        "    \"feat1\": np.random.rand(n_rows),\n",
        "    \"feat2\": np.random.rand(n_rows),\n",
        "    \"cat1\": np.random.choice([\"A\",\"B\",\"C\"], n_rows),\n",
        "    \"cat2\": [random.choice([[\"A\",\"B\",\"C\"], [\"A\",\"B\"],  [\"A\",\"C\"], [\"B\",\"C\"], [\"B\"], []]) for i in range(n_rows)],\n",
        "    \"label\": np.random.choice([0,1], n_rows)\n",
        "})\n",
        "\n",
        "\n"
      ]
    },
    {
      "cell_type": "code",
      "source": [
        "from google.colab import drive\n",
        "drive.mount('/content/drive')"
      ],
      "metadata": {
        "colab": {
          "base_uri": "https://localhost:8080/"
        },
        "id": "iRyBXK7aiULH",
        "outputId": "7608acb0-54ad-42ac-d64d-f044190ed88d"
      },
      "execution_count": 9,
      "outputs": [
        {
          "output_type": "stream",
          "name": "stdout",
          "text": [
            "Mounted at /content/drive\n"
          ]
        }
      ]
    },
    {
      "cell_type": "markdown",
      "source": [],
      "metadata": {
        "id": "9a8p_ksrwnpk"
      }
    },
    {
      "cell_type": "code",
      "source": [
        "# %cd ../..\n",
        "%cd content\n",
        "data_path = \"drive/MyDrive/ReserveImportantDataCopy/MyProjects/Other/RSHBGrant/2023/Data/\""
      ],
      "metadata": {
        "colab": {
          "base_uri": "https://localhost:8080/"
        },
        "id": "Js3xvuegiYNU",
        "outputId": "41da7304-8a49-481b-8e4d-16d9fa4a0a4f"
      },
      "execution_count": 14,
      "outputs": [
        {
          "output_type": "stream",
          "name": "stdout",
          "text": [
            "/content\n"
          ]
        }
      ]
    },
    {
      "cell_type": "code",
      "source": [
        "import pandas as pd\n",
        "# def regions ():\n",
        "regions = pd.read_csv(data_path + \"region.csv\")\n",
        "regions = regions[regions.columns[2]]\n",
        "b = pd.Series([\"Донецкая Народная Республика\", \"Луганская Народная Республика\", \"Запорожская область\", \"Херсонская область\"], index=[86, 87, 88, 89])\n",
        "regions = regions.append(b)\n",
        "regions = regions.drop(85)\n",
        "regions"
      ],
      "metadata": {
        "colab": {
          "base_uri": "https://localhost:8080/"
        },
        "id": "0YrZryQVhvQD",
        "outputId": "cc5b7919-4bae-489d-e828-41f17ef1eb1e"
      },
      "execution_count": 23,
      "outputs": [
        {
          "output_type": "stream",
          "name": "stderr",
          "text": [
            "<ipython-input-23-31cf9df708cb>:6: FutureWarning: The series.append method is deprecated and will be removed from pandas in a future version. Use pandas.concat instead.\n",
            "  regions = regions.append(b)\n"
          ]
        },
        {
          "output_type": "execute_result",
          "data": {
            "text/plain": [
              "0                       Респ Адыгея\n",
              "1                 Респ Башкортостан\n",
              "2                      Респ Бурятия\n",
              "3                        Респ Алтай\n",
              "4                     Респ Дагестан\n",
              "                  ...              \n",
              "84                    г Севастополь\n",
              "86     Донецкая Народная Республика\n",
              "87    Луганская Народная Республика\n",
              "88              Запорожская область\n",
              "89               Херсонская область\n",
              "Length: 89, dtype: object"
            ]
          },
          "metadata": {},
          "execution_count": 23
        }
      ]
    },
    {
      "cell_type": "code",
      "source": [
        "def generate_df(n_rows):\n",
        "  df = pd.DataFrame({\n",
        "  # step 0\n",
        "  \"houseArea\": [random.randint(25, 250) for i in range(n_rows)],\n",
        "  \"siteArea\": [random.randint(0, 100) for i in range(n_rows)],\n",
        "  \"floorCount\": [random.randint(1, 3) for i in range(n_rows)],\n",
        "  \"region\": [np.random.choice(regions) for i in range(n_rows)],\n",
        "  \"budgetFloor\": [random.randint(500_000, 5_000_000) for i in range(n_rows)],\n",
        "  \"budgetCeil\": [random.randint(5_000_000, 25_000_000) for i in range(n_rows)],\n",
        "\n",
        "  # step 1\n",
        "  # sitePreparation\n",
        "  \"siteChoosing\": (np.random.rand(n_rows) >= 0.5),\n",
        "  \"geologicalWorks\": np.random.rand(n_rows) >= 0.5,\n",
        "  \"geodeticalWorks\": np.random.rand(n_rows) >= 0.5,\n",
        "  \"cuttingBushesAndSmallForests\": np.random.rand(n_rows) >= 0.5,\n",
        "  \"clearingTheSiteOfDebris\": np.random.rand(n_rows) >= 0.5,\n",
        "\n",
        "  # siteWorks\n",
        "  \"cameras\": np.random.rand(n_rows) >= 0.5,\n",
        "  \"temporaryFence\": np.random.rand(n_rows) >= 0.5,\n",
        "\n",
        "  # houseDesignAndProject\n",
        "  \"homeProject\": np.random.rand(n_rows) >= 0.5,\n",
        "  \"designProject\": np.random.rand(n_rows) >= 0.5,\n",
        "\n",
        "  # step 2\n",
        "  \"foundationType\": [np.random.choice([\"Свайный\", \"Столбчатый\", \"Ленточный\", \"Плитный\"]) for i in range(n_rows)],\n",
        "\n",
        "  # step 3\n",
        "  \"wallsMaterial\":[np.random.choice([\"Кирпич\", \"Легкий бетон\", \"Дерево\", \"Каркас\"]) for i in range(n_rows)],\n",
        "\n",
        "  # step 4\n",
        "  \"slopesNumber\": [random.randint(1, 4) for i in range(n_rows)],\n",
        "  \"roofType\": [np.random.choice([\"Металлочерепица\", \"Гибкая черепица\", \"Рулонные материалы\", \"Ондулин\", \"Профнастил\"]) for i in range(n_rows)],\n",
        "\n",
        "  # step 5\n",
        "  \"facadeTechnology\": [np.random.choice([\"Без отделки\", \"Панели (сайдинг)\", \"Облицовка кирпичом\", \"Искусственный камень\"]) for i in range(n_rows)],\n",
        "\n",
        "  # step 6\n",
        "  \"windowMaterial\": [np.random.choice([\"Деревянные\", \"Пластиковые\"]) for i in range(n_rows)],\n",
        "  \"windowType\": [np.random.choice([\"Однокамерные\", \"Двухкамерные\", \"Трехкамерные\"]) for i in range(n_rows)],\n",
        "  \"doorMaterial\": [np.random.choice([\"Деревянные\", \"Пластиковые\"]) for i in range(n_rows)],\n",
        "\n",
        "  # step 7\n",
        "  # electrician\n",
        "  \"plasticBoxesUpTo40mmWide\": np.random.rand(n_rows) >= 0.5,\n",
        "  \"layingAThreeToFive\": np.random.rand(n_rows) >= 0.5,\n",
        "  \"cableLaying\": np.random.rand(n_rows) >= 0.5,\n",
        "  \"installationOfTwoKey\": np.random.rand(n_rows) >= 0.5,\n",
        "  \"installationOfSingleKey\": np.random.rand(n_rows) >= 0.5,\n",
        "  \"recessedTypeSocketDevice\": np.random.rand(n_rows) >= 0.5,\n",
        "  \"installationOfPendant\": np.random.rand(n_rows) >= 0.5,\n",
        "  \"chandeliersAndPendants\": np.random.rand(n_rows) >= 0.5,\n",
        "\n",
        "  # waterSupply\n",
        "  \"layingOfInternalPipelines\": np.random.rand(n_rows) >= 0.5,\n",
        "  \"installationOfBathtubs\": np.random.rand(n_rows) >= 0.5,\n",
        "  \"installationOfSingle\": np.random.rand(n_rows) >= 0.5,\n",
        "  \"installationOfMixer\": np.random.rand(n_rows) >= 0.5,\n",
        "\n",
        "  # sewerage\n",
        "  \"installationOfToilet\": np.random.rand(n_rows) >= 0.5,\n",
        "  \"layingOfSewerage50mm\": np.random.rand(n_rows) >= 0.5,\n",
        "  \"layingOfSewerage110mm\": np.random.rand(n_rows) >= 0.5,\n",
        "\n",
        "  # heating\n",
        "  \"assemblyOfAWaterSupply\": np.random.rand(n_rows) >= 0.5,\n",
        "  \"layingOfInternalPipelines\": np.random.rand(n_rows) >= 0.5,\n",
        "  \"installationOfWindowFixtures\": np.random.rand(n_rows) >= 0.5,\n",
        "\n",
        "  # ventilation\n",
        "  \"installationOfSplitSystems\": np.random.rand(n_rows) >= 0.5,\n",
        "  \"cablingOnABrickWall\": np.random.rand(n_rows) >= 0.5,\n",
        "\n",
        "\n",
        "  #step 8\n",
        "  \"warmFloor\": np.random.rand(n_rows) >= 0.5,\n",
        "  \"ladderMaterial\": [np.random.choice([\"Дерево\", \"Бетон\", \"Металл\"]) for i in range(n_rows)],\n",
        "\n",
        "  #step 9\n",
        "  \"wallDecoration\": [np.random.choice([\"Декоративная штукатурка\", \"Покраска\", \"Обои\", \"Плитка\"]) for i in range(n_rows)],\n",
        "  \"floorCovering\": [np.random.choice([\"Ламинат\", \"Линолеум\"]) for i in range(n_rows)],\n",
        "  \"ceilCovering\": [np.random.choice([\"Натяжной потолок\", \"Окраска\", \"Обои\", \"Штукатурка\"]) for i in range(n_rows)],\n",
        "\n",
        "  })\n",
        "  return df\n",
        "train_df = generate_df(n_rows)\n",
        "test_df = generate_df(int(n_rows * 0.2))\n",
        "val_df = generate_df(int(n_rows * 0.2 * 0.2))"
      ],
      "metadata": {
        "id": "VHyHBC-TdDD0"
      },
      "execution_count": 24,
      "outputs": []
    },
    {
      "cell_type": "code",
      "source": [
        "train_df.head()"
      ],
      "metadata": {
        "id": "yvd-ffqINzAa",
        "colab": {
          "base_uri": "https://localhost:8080/",
          "height": 352
        },
        "outputId": "305f39ae-e17f-4545-8f23-fb100dda8a10"
      },
      "execution_count": 25,
      "outputs": [
        {
          "output_type": "execute_result",
          "data": {
            "text/plain": [
              "   houseArea  siteArea  floorCount             region  budgetFloor  \\\n",
              "0        136         1           2          Респ Крым      2226651   \n",
              "1        241        55           1      Респ Калмыкия      1714271   \n",
              "2        127        64           3  Архангельская обл      2803340   \n",
              "3        189        29           3      Пермский край       795860   \n",
              "4        124        51           3       Тульская обл      1366513   \n",
              "\n",
              "   budgetCeil  siteChoosing  geologicalWorks  geodeticalWorks  \\\n",
              "0    12259193         False            False             True   \n",
              "1    13303054         False            False             True   \n",
              "2     9411575          True             True            False   \n",
              "3    19923257         False             True             True   \n",
              "4    23611893          True            False            False   \n",
              "\n",
              "   cuttingBushesAndSmallForests  ...  layingOfSewerage110mm  \\\n",
              "0                         False  ...                   True   \n",
              "1                         False  ...                   True   \n",
              "2                          True  ...                  False   \n",
              "3                          True  ...                   True   \n",
              "4                          True  ...                  False   \n",
              "\n",
              "   assemblyOfAWaterSupply  installationOfWindowFixtures  \\\n",
              "0                    True                         False   \n",
              "1                   False                          True   \n",
              "2                   False                          True   \n",
              "3                    True                         False   \n",
              "4                    True                         False   \n",
              "\n",
              "   installationOfSplitSystems  cablingOnABrickWall warmFloor ladderMaterial  \\\n",
              "0                        True                 True     False         Дерево   \n",
              "1                        True                 True     False          Бетон   \n",
              "2                        True                 True      True          Бетон   \n",
              "3                       False                 True     False         Дерево   \n",
              "4                       False                 True     False         Дерево   \n",
              "\n",
              "   wallDecoration floorCovering ceilCovering  \n",
              "0          Плитка       Ламинат         Обои  \n",
              "1        Покраска      Линолеум   Штукатурка  \n",
              "2            Обои      Линолеум      Окраска  \n",
              "3          Плитка      Линолеум      Окраска  \n",
              "4            Обои       Ламинат   Штукатурка  \n",
              "\n",
              "[5 rows x 47 columns]"
            ],
            "text/html": [
              "\n",
              "\n",
              "  <div id=\"df-e9f0e17d-87f3-4872-bf40-04ee2e18a30c\">\n",
              "    <div class=\"colab-df-container\">\n",
              "      <div>\n",
              "<style scoped>\n",
              "    .dataframe tbody tr th:only-of-type {\n",
              "        vertical-align: middle;\n",
              "    }\n",
              "\n",
              "    .dataframe tbody tr th {\n",
              "        vertical-align: top;\n",
              "    }\n",
              "\n",
              "    .dataframe thead th {\n",
              "        text-align: right;\n",
              "    }\n",
              "</style>\n",
              "<table border=\"1\" class=\"dataframe\">\n",
              "  <thead>\n",
              "    <tr style=\"text-align: right;\">\n",
              "      <th></th>\n",
              "      <th>houseArea</th>\n",
              "      <th>siteArea</th>\n",
              "      <th>floorCount</th>\n",
              "      <th>region</th>\n",
              "      <th>budgetFloor</th>\n",
              "      <th>budgetCeil</th>\n",
              "      <th>siteChoosing</th>\n",
              "      <th>geologicalWorks</th>\n",
              "      <th>geodeticalWorks</th>\n",
              "      <th>cuttingBushesAndSmallForests</th>\n",
              "      <th>...</th>\n",
              "      <th>layingOfSewerage110mm</th>\n",
              "      <th>assemblyOfAWaterSupply</th>\n",
              "      <th>installationOfWindowFixtures</th>\n",
              "      <th>installationOfSplitSystems</th>\n",
              "      <th>cablingOnABrickWall</th>\n",
              "      <th>warmFloor</th>\n",
              "      <th>ladderMaterial</th>\n",
              "      <th>wallDecoration</th>\n",
              "      <th>floorCovering</th>\n",
              "      <th>ceilCovering</th>\n",
              "    </tr>\n",
              "  </thead>\n",
              "  <tbody>\n",
              "    <tr>\n",
              "      <th>0</th>\n",
              "      <td>136</td>\n",
              "      <td>1</td>\n",
              "      <td>2</td>\n",
              "      <td>Респ Крым</td>\n",
              "      <td>2226651</td>\n",
              "      <td>12259193</td>\n",
              "      <td>False</td>\n",
              "      <td>False</td>\n",
              "      <td>True</td>\n",
              "      <td>False</td>\n",
              "      <td>...</td>\n",
              "      <td>True</td>\n",
              "      <td>True</td>\n",
              "      <td>False</td>\n",
              "      <td>True</td>\n",
              "      <td>True</td>\n",
              "      <td>False</td>\n",
              "      <td>Дерево</td>\n",
              "      <td>Плитка</td>\n",
              "      <td>Ламинат</td>\n",
              "      <td>Обои</td>\n",
              "    </tr>\n",
              "    <tr>\n",
              "      <th>1</th>\n",
              "      <td>241</td>\n",
              "      <td>55</td>\n",
              "      <td>1</td>\n",
              "      <td>Респ Калмыкия</td>\n",
              "      <td>1714271</td>\n",
              "      <td>13303054</td>\n",
              "      <td>False</td>\n",
              "      <td>False</td>\n",
              "      <td>True</td>\n",
              "      <td>False</td>\n",
              "      <td>...</td>\n",
              "      <td>True</td>\n",
              "      <td>False</td>\n",
              "      <td>True</td>\n",
              "      <td>True</td>\n",
              "      <td>True</td>\n",
              "      <td>False</td>\n",
              "      <td>Бетон</td>\n",
              "      <td>Покраска</td>\n",
              "      <td>Линолеум</td>\n",
              "      <td>Штукатурка</td>\n",
              "    </tr>\n",
              "    <tr>\n",
              "      <th>2</th>\n",
              "      <td>127</td>\n",
              "      <td>64</td>\n",
              "      <td>3</td>\n",
              "      <td>Архангельская обл</td>\n",
              "      <td>2803340</td>\n",
              "      <td>9411575</td>\n",
              "      <td>True</td>\n",
              "      <td>True</td>\n",
              "      <td>False</td>\n",
              "      <td>True</td>\n",
              "      <td>...</td>\n",
              "      <td>False</td>\n",
              "      <td>False</td>\n",
              "      <td>True</td>\n",
              "      <td>True</td>\n",
              "      <td>True</td>\n",
              "      <td>True</td>\n",
              "      <td>Бетон</td>\n",
              "      <td>Обои</td>\n",
              "      <td>Линолеум</td>\n",
              "      <td>Окраска</td>\n",
              "    </tr>\n",
              "    <tr>\n",
              "      <th>3</th>\n",
              "      <td>189</td>\n",
              "      <td>29</td>\n",
              "      <td>3</td>\n",
              "      <td>Пермский край</td>\n",
              "      <td>795860</td>\n",
              "      <td>19923257</td>\n",
              "      <td>False</td>\n",
              "      <td>True</td>\n",
              "      <td>True</td>\n",
              "      <td>True</td>\n",
              "      <td>...</td>\n",
              "      <td>True</td>\n",
              "      <td>True</td>\n",
              "      <td>False</td>\n",
              "      <td>False</td>\n",
              "      <td>True</td>\n",
              "      <td>False</td>\n",
              "      <td>Дерево</td>\n",
              "      <td>Плитка</td>\n",
              "      <td>Линолеум</td>\n",
              "      <td>Окраска</td>\n",
              "    </tr>\n",
              "    <tr>\n",
              "      <th>4</th>\n",
              "      <td>124</td>\n",
              "      <td>51</td>\n",
              "      <td>3</td>\n",
              "      <td>Тульская обл</td>\n",
              "      <td>1366513</td>\n",
              "      <td>23611893</td>\n",
              "      <td>True</td>\n",
              "      <td>False</td>\n",
              "      <td>False</td>\n",
              "      <td>True</td>\n",
              "      <td>...</td>\n",
              "      <td>False</td>\n",
              "      <td>True</td>\n",
              "      <td>False</td>\n",
              "      <td>False</td>\n",
              "      <td>True</td>\n",
              "      <td>False</td>\n",
              "      <td>Дерево</td>\n",
              "      <td>Обои</td>\n",
              "      <td>Ламинат</td>\n",
              "      <td>Штукатурка</td>\n",
              "    </tr>\n",
              "  </tbody>\n",
              "</table>\n",
              "<p>5 rows × 47 columns</p>\n",
              "</div>\n",
              "      <button class=\"colab-df-convert\" onclick=\"convertToInteractive('df-e9f0e17d-87f3-4872-bf40-04ee2e18a30c')\"\n",
              "              title=\"Convert this dataframe to an interactive table.\"\n",
              "              style=\"display:none;\">\n",
              "\n",
              "  <svg xmlns=\"http://www.w3.org/2000/svg\" height=\"24px\"viewBox=\"0 0 24 24\"\n",
              "       width=\"24px\">\n",
              "    <path d=\"M0 0h24v24H0V0z\" fill=\"none\"/>\n",
              "    <path d=\"M18.56 5.44l.94 2.06.94-2.06 2.06-.94-2.06-.94-.94-2.06-.94 2.06-2.06.94zm-11 1L8.5 8.5l.94-2.06 2.06-.94-2.06-.94L8.5 2.5l-.94 2.06-2.06.94zm10 10l.94 2.06.94-2.06 2.06-.94-2.06-.94-.94-2.06-.94 2.06-2.06.94z\"/><path d=\"M17.41 7.96l-1.37-1.37c-.4-.4-.92-.59-1.43-.59-.52 0-1.04.2-1.43.59L10.3 9.45l-7.72 7.72c-.78.78-.78 2.05 0 2.83L4 21.41c.39.39.9.59 1.41.59.51 0 1.02-.2 1.41-.59l7.78-7.78 2.81-2.81c.8-.78.8-2.07 0-2.86zM5.41 20L4 18.59l7.72-7.72 1.47 1.35L5.41 20z\"/>\n",
              "  </svg>\n",
              "      </button>\n",
              "\n",
              "\n",
              "\n",
              "    <div id=\"df-7bcec14e-6212-488e-90d7-2ab94dd3ceea\">\n",
              "      <button class=\"colab-df-quickchart\" onclick=\"quickchart('df-7bcec14e-6212-488e-90d7-2ab94dd3ceea')\"\n",
              "              title=\"Suggest charts.\"\n",
              "              style=\"display:none;\">\n",
              "\n",
              "<svg xmlns=\"http://www.w3.org/2000/svg\" height=\"24px\"viewBox=\"0 0 24 24\"\n",
              "     width=\"24px\">\n",
              "    <g>\n",
              "        <path d=\"M19 3H5c-1.1 0-2 .9-2 2v14c0 1.1.9 2 2 2h14c1.1 0 2-.9 2-2V5c0-1.1-.9-2-2-2zM9 17H7v-7h2v7zm4 0h-2V7h2v10zm4 0h-2v-4h2v4z\"/>\n",
              "    </g>\n",
              "</svg>\n",
              "      </button>\n",
              "    </div>\n",
              "\n",
              "<style>\n",
              "  .colab-df-quickchart {\n",
              "    background-color: #E8F0FE;\n",
              "    border: none;\n",
              "    border-radius: 50%;\n",
              "    cursor: pointer;\n",
              "    display: none;\n",
              "    fill: #1967D2;\n",
              "    height: 32px;\n",
              "    padding: 0 0 0 0;\n",
              "    width: 32px;\n",
              "  }\n",
              "\n",
              "  .colab-df-quickchart:hover {\n",
              "    background-color: #E2EBFA;\n",
              "    box-shadow: 0px 1px 2px rgba(60, 64, 67, 0.3), 0px 1px 3px 1px rgba(60, 64, 67, 0.15);\n",
              "    fill: #174EA6;\n",
              "  }\n",
              "\n",
              "  [theme=dark] .colab-df-quickchart {\n",
              "    background-color: #3B4455;\n",
              "    fill: #D2E3FC;\n",
              "  }\n",
              "\n",
              "  [theme=dark] .colab-df-quickchart:hover {\n",
              "    background-color: #434B5C;\n",
              "    box-shadow: 0px 1px 3px 1px rgba(0, 0, 0, 0.15);\n",
              "    filter: drop-shadow(0px 1px 2px rgba(0, 0, 0, 0.3));\n",
              "    fill: #FFFFFF;\n",
              "  }\n",
              "</style>\n",
              "\n",
              "    <script>\n",
              "      async function quickchart(key) {\n",
              "        const containerElement = document.querySelector('#' + key);\n",
              "        const charts = await google.colab.kernel.invokeFunction(\n",
              "            'suggestCharts', [key], {});\n",
              "      }\n",
              "    </script>\n",
              "\n",
              "      <script>\n",
              "\n",
              "function displayQuickchartButton(domScope) {\n",
              "  let quickchartButtonEl =\n",
              "    domScope.querySelector('#df-7bcec14e-6212-488e-90d7-2ab94dd3ceea button.colab-df-quickchart');\n",
              "  quickchartButtonEl.style.display =\n",
              "    google.colab.kernel.accessAllowed ? 'block' : 'none';\n",
              "}\n",
              "\n",
              "        displayQuickchartButton(document);\n",
              "      </script>\n",
              "      <style>\n",
              "    .colab-df-container {\n",
              "      display:flex;\n",
              "      flex-wrap:wrap;\n",
              "      gap: 12px;\n",
              "    }\n",
              "\n",
              "    .colab-df-convert {\n",
              "      background-color: #E8F0FE;\n",
              "      border: none;\n",
              "      border-radius: 50%;\n",
              "      cursor: pointer;\n",
              "      display: none;\n",
              "      fill: #1967D2;\n",
              "      height: 32px;\n",
              "      padding: 0 0 0 0;\n",
              "      width: 32px;\n",
              "    }\n",
              "\n",
              "    .colab-df-convert:hover {\n",
              "      background-color: #E2EBFA;\n",
              "      box-shadow: 0px 1px 2px rgba(60, 64, 67, 0.3), 0px 1px 3px 1px rgba(60, 64, 67, 0.15);\n",
              "      fill: #174EA6;\n",
              "    }\n",
              "\n",
              "    [theme=dark] .colab-df-convert {\n",
              "      background-color: #3B4455;\n",
              "      fill: #D2E3FC;\n",
              "    }\n",
              "\n",
              "    [theme=dark] .colab-df-convert:hover {\n",
              "      background-color: #434B5C;\n",
              "      box-shadow: 0px 1px 3px 1px rgba(0, 0, 0, 0.15);\n",
              "      filter: drop-shadow(0px 1px 2px rgba(0, 0, 0, 0.3));\n",
              "      fill: #FFFFFF;\n",
              "    }\n",
              "  </style>\n",
              "\n",
              "      <script>\n",
              "        const buttonEl =\n",
              "          document.querySelector('#df-e9f0e17d-87f3-4872-bf40-04ee2e18a30c button.colab-df-convert');\n",
              "        buttonEl.style.display =\n",
              "          google.colab.kernel.accessAllowed ? 'block' : 'none';\n",
              "\n",
              "        async function convertToInteractive(key) {\n",
              "          const element = document.querySelector('#df-e9f0e17d-87f3-4872-bf40-04ee2e18a30c');\n",
              "          const dataTable =\n",
              "            await google.colab.kernel.invokeFunction('convertToInteractive',\n",
              "                                                     [key], {});\n",
              "          if (!dataTable) return;\n",
              "\n",
              "          const docLinkHtml = 'Like what you see? Visit the ' +\n",
              "            '<a target=\"_blank\" href=https://colab.research.google.com/notebooks/data_table.ipynb>data table notebook</a>'\n",
              "            + ' to learn more about interactive tables.';\n",
              "          element.innerHTML = '';\n",
              "          dataTable['output_type'] = 'display_data';\n",
              "          await google.colab.output.renderOutput(dataTable, element);\n",
              "          const docLink = document.createElement('div');\n",
              "          docLink.innerHTML = docLinkHtml;\n",
              "          element.appendChild(docLink);\n",
              "        }\n",
              "      </script>\n",
              "    </div>\n",
              "  </div>\n"
            ]
          },
          "metadata": {},
          "execution_count": 25
        }
      ]
    },
    {
      "cell_type": "code",
      "source": [
        "train_df.columns"
      ],
      "metadata": {
        "colab": {
          "base_uri": "https://localhost:8080/"
        },
        "id": "1sDXO1GeclSX",
        "outputId": "31cb76c7-6ddf-4b39-900b-16f1eb4fffe8"
      },
      "execution_count": 26,
      "outputs": [
        {
          "output_type": "execute_result",
          "data": {
            "text/plain": [
              "Index(['houseArea', 'siteArea', 'floorCount', 'region', 'budgetFloor',\n",
              "       'budgetCeil', 'siteChoosing', 'geologicalWorks', 'geodeticalWorks',\n",
              "       'cuttingBushesAndSmallForests', 'clearingTheSiteOfDebris', 'cameras',\n",
              "       'temporaryFence', 'homeProject', 'designProject', 'foundationType',\n",
              "       'wallsMaterial', 'slopesNumber', 'roofType', 'facadeTechnology',\n",
              "       'windowMaterial', 'windowType', 'doorMaterial',\n",
              "       'plasticBoxesUpTo40mmWide', 'layingAThreeToFive', 'cableLaying',\n",
              "       'installationOfTwoKey', 'installationOfSingleKey',\n",
              "       'recessedTypeSocketDevice', 'installationOfPendant',\n",
              "       'chandeliersAndPendants', 'layingOfInternalPipelines',\n",
              "       'installationOfBathtubs', 'installationOfSingle', 'installationOfMixer',\n",
              "       'installationOfToilet', 'layingOfSewerage50mm', 'layingOfSewerage110mm',\n",
              "       'assemblyOfAWaterSupply', 'installationOfWindowFixtures',\n",
              "       'installationOfSplitSystems', 'cablingOnABrickWall', 'warmFloor',\n",
              "       'ladderMaterial', 'wallDecoration', 'floorCovering', 'ceilCovering'],\n",
              "      dtype='object')"
            ]
          },
          "metadata": {},
          "execution_count": 26
        }
      ]
    }
  ]
}